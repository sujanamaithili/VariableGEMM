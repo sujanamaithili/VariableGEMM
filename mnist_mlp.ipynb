{
 "cells": [
  {
   "cell_type": "code",
   "execution_count": 144,
   "metadata": {
    "colab": {
     "base_uri": "https://localhost:8080/"
    },
    "id": "RvBFSlF2yLtF",
    "outputId": "8768fef3-6471-41ed-e6eb-6be3198eaee4"
   },
   "outputs": [
    {
     "name": "stdout",
     "output_type": "stream",
     "text": [
      "Using CPU\n"
     ]
    }
   ],
   "source": [
    "import torch\n",
    "import torch.nn as nn\n",
    "from torch.utils.data import DataLoader\n",
    "from torchvision import datasets\n",
    "from torchvision import transforms\n",
    "\n",
    "import numpy as np\n",
    "import matplotlib.pyplot as plt\n",
    "\n",
    "seed = 1\n",
    "torch.manual_seed(seed)\n",
    "\n",
    "if torch.cuda.is_available():\n",
    "    print('Using GPU, device name:', torch.cuda.get_device_name(0))\n",
    "    device = torch.device('cuda')\n",
    "else:\n",
    "    print('Using CPU')\n",
    "    device = torch.device('cpu')"
   ]
  },
  {
   "cell_type": "code",
   "execution_count": 145,
   "metadata": {
    "colab": {
     "base_uri": "https://localhost:8080/"
    },
    "id": "yDMiMZwJyLtG",
    "outputId": "f3739c49-043c-4ea8-99c5-dddef87ec719"
   },
   "outputs": [
    {
     "name": "stdout",
     "output_type": "stream",
     "text": [
      "mnist dataset mean=0.13066047430038452\n"
     ]
    }
   ],
   "source": [
    "train_dataset = datasets.MNIST('./data', train=True, download=True, transform=transforms.ToTensor())\n",
    "# If we want to normalize data to have zero mean and 1 std, use the following. But we do not do that in barenet.\n",
    "#train_dataset = datasets.MNIST('./data', train=True, download=True, \n",
    "                              #transform=transforms.Normalize((0.1307,), (0.3081,)))\n",
    "test_dataset = datasets.MNIST('./data', train=False, transform=transforms.ToTensor())\n",
    "\n",
    "alltrain_loader = DataLoader(dataset=train_dataset, batch_size=train_dataset.data.size()[0], shuffle=False)\n",
    "for (data, _) in alltrain_loader:    \n",
    "    print(f'mnist dataset mean={torch.mean(data)}')\n",
    "\n",
    "\n",
    "batch_size = 32\n",
    "train_loader = DataLoader(dataset=train_dataset, batch_size=batch_size, shuffle=False)\n",
    "test_loader = DataLoader(dataset=test_dataset, batch_size=batch_size, shuffle=False)"
   ]
  },
  {
   "cell_type": "code",
   "execution_count": 146,
   "metadata": {
    "colab": {
     "base_uri": "https://localhost:8080/",
     "height": 125
    },
    "id": "o06fqcCPyLtG",
    "outputId": "e2a833be-e69d-4c79-987d-92a12c9d9223"
   },
   "outputs": [
    {
     "data": {
      "image/png": "[encoded data removed]",
      "text/plain": [
       "<Figure size 1000x100 with 10 Axes>"
      ]
     },
     "metadata": {},
     "output_type": "display_data"
    }
   ],
   "source": [
    "pltsize=1\n",
    "plt.figure(figsize=(10*pltsize, pltsize))\n",
    "\n",
    "for i in range(10):\n",
    "    plt.subplot(1,10,i+1)\n",
    "    plt.axis('off')\n",
    "    plt.imshow(data[i,:,:,:].numpy().reshape(28,28), cmap=\"gray_r\")\n",
    "    plt.title('Class: '+str(target[i].item()))"
   ]
  },
  {
   "cell_type": "code",
   "execution_count": 147,
   "metadata": {
    "colab": {
     "base_uri": "https://localhost:8080/"
    },
    "id": "3WwvJfUDyLtH",
    "outputId": "2b91ac60-dac1-4445-9283-8418f9c39cc1"
   },
   "outputs": [],
   "source": [
    "class TwoLayerMLP(nn.Module):\n",
    "    def __init__(self):\n",
    "        super().__init__()\n",
    "        self.layers = nn.Sequential(\n",
    "            nn.Flatten(),\n",
    "            nn.Linear(28*28, 16),\n",
    "            nn.ReLU(),\n",
    "            nn.Linear(16, 10)\n",
    "        )\n",
    "        self.l1 = nn.Linear(28*28, 16)\n",
    "        #print(f'l1 init weights={self.l1.weight}')\n",
    "        self.af = nn.ReLU()\n",
    "        self.l2 = nn.Linear(16, 10)\n",
    "\n",
    "    def forward(self, x):\n",
    "        x0 = torch.flatten(x, start_dim=1)\n",
    "        x1 = self.l1(x0)\n",
    "        #print(f'x1={x1} weights={self.l1.weight} bias={self.l1.bias}')\n",
    "        x1_a = self.af(x1)\n",
    "        x2 = self.l2(x1_a)\n",
    "        return x2\n",
    "\n",
    "#Normally, you could just use the following to achieve the same as our manual TwoLayerMLP class.\n",
    "#nn.Sequential(\n",
    "#            nn.Flatten(),\n",
    "#            nn.Linear(28*28, 16),\n",
    "#            nn.ReLU(),\n",
    "#            nn.Linear(16, 10)\n",
    "#        )\n",
    "model = TwoLayerMLP().to(device)"
   ]
  },
  {
   "cell_type": "code",
   "execution_count": 148,
   "metadata": {
    "id": "lk1o5QYDyLtH"
   },
   "outputs": [],
   "source": [
    "criterion = nn.CrossEntropyLoss()\n",
    "optimizer = torch.optim.SGD(model.parameters(), lr=0.01)"
   ]
  },
  {
   "cell_type": "code",
   "execution_count": 149,
   "metadata": {
    "id": "a42MJF8KyLtH"
   },
   "outputs": [],
   "source": [
    "# this is the same as the correct(...) function in barenet's train_mlp.cu\n",
    "# it calculates the number of correct predictions based on the logit values in output\n",
    "def correct(output, target):\n",
    "    predicted_digits = output.argmax(1)                            \n",
    "    correct_ones = (predicted_digits == target).type(torch.float)  \n",
    "    return correct_ones.sum().item()                               \n"
   ]
  },
  {
   "cell_type": "code",
   "execution_count": 150,
   "metadata": {
    "id": "hIt0iytpyLtI"
   },
   "outputs": [],
   "source": [
    "def train(data_loader, model, criterion, optimizer):\n",
    "    model.train()\n",
    "\n",
    "    num_batches = len(data_loader)\n",
    "    num_items = len(data_loader.dataset)\n",
    "\n",
    "    total_loss = 0\n",
    "    total_correct = 0\n",
    "    for data, target in data_loader:\n",
    "        # Copy data and targets to GPU\n",
    "        data = data.to(device)\n",
    "        target = target.to(device)\n",
    "\n",
    "        # Do a forward pass\n",
    "        output = model(data)\n",
    "        #print(f'output={output}')\n",
    "        # Calculate the loss\n",
    "        loss = criterion(output, target)\n",
    "        #print(f'loss={loss}')\n",
    "\n",
    "        total_loss += loss\n",
    "\n",
    "        # Count number of correct digits\n",
    "        total_correct += correct(output, target)\n",
    "\n",
    "        # Backpropagation\n",
    "        loss.backward()\n",
    "        optimizer.step()\n",
    "        optimizer.zero_grad()\n",
    "\n",
    "    train_loss = total_loss/num_batches\n",
    "    accuracy = total_correct/num_items\n",
    "    print(f\"Training loss: {train_loss:7f}, accuracy: {accuracy:.2%} num_batches: {num_batches}\")\n"
   ]
  },
  {
   "cell_type": "code",
   "execution_count": 152,
   "metadata": {
    "colab": {
     "background_save": true,
     "base_uri": "https://localhost:8080/"
    },
    "id": "GX4iZgbLyLtI",
    "outputId": "52329221-a57d-49ac-b4c6-fdf57b43a0ba"
   },
   "outputs": [
    {
     "name": "stdout",
     "output_type": "stream",
     "text": [
      "Training epoch: 1\n",
      "Training loss: 0.242133, accuracy: 93.14% num_batches: 1875\n",
      "Training epoch: 2\n",
      "Training loss: 0.236453, accuracy: 93.30% num_batches: 1875\n",
      "Training epoch: 3\n",
      "Training loss: 0.231248, accuracy: 93.44% num_batches: 1875\n",
      "Training epoch: 4\n",
      "Training loss: 0.226465, accuracy: 93.59% num_batches: 1875\n",
      "Training epoch: 5\n",
      "Training loss: 0.221972, accuracy: 93.69% num_batches: 1875\n",
      "Training epoch: 6\n",
      "Training loss: 0.217747, accuracy: 93.80% num_batches: 1875\n",
      "Training epoch: 7\n",
      "Training loss: 0.213783, accuracy: 93.92% num_batches: 1875\n",
      "Training epoch: 8\n",
      "Training loss: 0.210002, accuracy: 94.02% num_batches: 1875\n",
      "Training epoch: 9\n",
      "Training loss: 0.206451, accuracy: 94.14% num_batches: 1875\n",
      "Training epoch: 10\n",
      "Training loss: 0.203053, accuracy: 94.24% num_batches: 1875\n",
      "Training epoch: 11\n",
      "Training loss: 0.199756, accuracy: 94.36% num_batches: 1875\n",
      "Training epoch: 12\n",
      "Training loss: 0.196591, accuracy: 94.42% num_batches: 1875\n",
      "Training epoch: 13\n",
      "Training loss: 0.193538, accuracy: 94.52% num_batches: 1875\n",
      "Training epoch: 14\n",
      "Training loss: 0.190602, accuracy: 94.59% num_batches: 1875\n",
      "Training epoch: 15\n",
      "Training loss: 0.187816, accuracy: 94.67% num_batches: 1875\n",
      "Training epoch: 16\n",
      "Training loss: 0.185153, accuracy: 94.73% num_batches: 1875\n",
      "Training epoch: 17\n",
      "Training loss: 0.182606, accuracy: 94.80% num_batches: 1875\n",
      "Training epoch: 18\n",
      "Training loss: 0.180145, accuracy: 94.87% num_batches: 1875\n",
      "Training epoch: 19\n",
      "Training loss: 0.177795, accuracy: 94.93% num_batches: 1875\n",
      "Training epoch: 20\n",
      "Training loss: 0.175518, accuracy: 94.97% num_batches: 1875\n",
      "Training epoch: 21\n",
      "Training loss: 0.173314, accuracy: 95.06% num_batches: 1875\n",
      "Training epoch: 22\n",
      "Training loss: 0.171217, accuracy: 95.12% num_batches: 1875\n",
      "Training epoch: 23\n",
      "Training loss: 0.169241, accuracy: 95.15% num_batches: 1875\n",
      "Training epoch: 24\n",
      "Training loss: 0.167383, accuracy: 95.21% num_batches: 1875\n",
      "Training epoch: 25\n",
      "Training loss: 0.165621, accuracy: 95.25% num_batches: 1875\n",
      "Training epoch: 26\n",
      "Training loss: 0.163915, accuracy: 95.31% num_batches: 1875\n",
      "Training epoch: 27\n",
      "Training loss: 0.162283, accuracy: 95.35% num_batches: 1875\n",
      "Training epoch: 28\n",
      "Training loss: 0.160721, accuracy: 95.39% num_batches: 1875\n",
      "Training epoch: 29\n",
      "Training loss: 0.159235, accuracy: 95.43% num_batches: 1875\n",
      "Training epoch: 30\n",
      "Training loss: 0.157810, accuracy: 95.49% num_batches: 1875\n",
      "Training epoch: 31\n",
      "Training loss: 0.156453, accuracy: 95.53% num_batches: 1875\n",
      "Training epoch: 32\n",
      "Training loss: 0.155123, accuracy: 95.57% num_batches: 1875\n",
      "Training epoch: 33\n",
      "Training loss: 0.153889, accuracy: 95.60% num_batches: 1875\n",
      "Training epoch: 34\n",
      "Training loss: 0.152686, accuracy: 95.63% num_batches: 1875\n",
      "Training epoch: 35\n",
      "Training loss: 0.151549, accuracy: 95.67% num_batches: 1875\n",
      "Training epoch: 36\n",
      "Training loss: 0.150435, accuracy: 95.70% num_batches: 1875\n",
      "Training epoch: 37\n",
      "Training loss: 0.149361, accuracy: 95.73% num_batches: 1875\n",
      "Training epoch: 38\n",
      "Training loss: 0.148316, accuracy: 95.75% num_batches: 1875\n",
      "Training epoch: 39\n",
      "Training loss: 0.147298, accuracy: 95.79% num_batches: 1875\n",
      "Training epoch: 40\n",
      "Training loss: 0.146298, accuracy: 95.83% num_batches: 1875\n",
      "Training epoch: 41\n",
      "Training loss: 0.145320, accuracy: 95.85% num_batches: 1875\n",
      "Training epoch: 42\n",
      "Training loss: 0.144363, accuracy: 95.89% num_batches: 1875\n",
      "Training epoch: 43\n",
      "Training loss: 0.143446, accuracy: 95.90% num_batches: 1875\n",
      "Training epoch: 44\n",
      "Training loss: 0.142533, accuracy: 95.94% num_batches: 1875\n",
      "Training epoch: 45\n",
      "Training loss: 0.141635, accuracy: 95.96% num_batches: 1875\n",
      "Training epoch: 46\n",
      "Training loss: 0.140780, accuracy: 95.99% num_batches: 1875\n",
      "Training epoch: 47\n",
      "Training loss: 0.139920, accuracy: 96.02% num_batches: 1875\n",
      "Training epoch: 48\n",
      "Training loss: 0.139113, accuracy: 96.03% num_batches: 1875\n",
      "Training epoch: 49\n",
      "Training loss: 0.138316, accuracy: 96.07% num_batches: 1875\n",
      "Training epoch: 50\n",
      "Training loss: 0.137534, accuracy: 96.08% num_batches: 1875\n",
      "CPU times: user 25min 50s, sys: 4min 2s, total: 29min 53s\n",
      "Wall time: 4min\n"
     ]
    }
   ],
   "source": [
    "%%time\n",
    "\n",
    "epochs = 50\n",
    "for epoch in range(epochs):\n",
    "    print(f\"Training epoch: {epoch+1}\")\n",
    "    train(train_loader, model, criterion, optimizer)"
   ]
  },
  {
   "cell_type": "code",
   "execution_count": 142,
   "metadata": {
    "colab": {
     "background_save": true
    },
    "id": "nJMdbjcqyLtJ"
   },
   "outputs": [],
   "source": [
    "def test(test_loader, model, criterion):\n",
    "    model.eval()\n",
    "\n",
    "    num_batches = len(test_loader)\n",
    "    num_items = len(test_loader.dataset)\n",
    "\n",
    "    total_loss = 0\n",
    "    total_correct = 0\n",
    "    with torch.no_grad():\n",
    "        #test_loader is constructed such that there is only one batch\n",
    "        for data, target in test_loader: \n",
    "            # Copy data and targets to GPU\n",
    "            data = data.to(device)\n",
    "            target = target.to(device)\n",
    "\n",
    "            # Do a forward pass\n",
    "            output = model(data)\n",
    "\n",
    "            # Calculate the loss\n",
    "            loss = criterion(output, target)\n",
    "            total_loss += loss.item()\n",
    "\n",
    "            # Count number of correct digits\n",
    "            total_correct += correct(output, target)\n",
    "        test_loss = total_loss / num_batches\n",
    "        accuracy = total_correct/num_items\n",
    "\n",
    "        print(f\"Test loss: {test_loss:>7f} accuracy: {100*accuracy:>0.1f}%\")"
   ]
  },
  {
   "cell_type": "code",
   "execution_count": 143,
   "metadata": {
    "colab": {
     "background_save": true
    },
    "id": "F-FHBXC3yLtJ",
    "outputId": "5c2b694b-0c39-4bc0-ffc9-607b56649551"
   },
   "outputs": [
    {
     "name": "stdout",
     "output_type": "stream",
     "text": [
      "Test loss: 0.248128 accuracy: 92.9%\n"
     ]
    }
   ],
   "source": [
    "test(test_loader, model, criterion)"
   ]
  },
  {
   "cell_type": "code",
   "execution_count": null,
   "metadata": {},
   "outputs": [],
   "source": []
  }
 ],
 "metadata": {
  "colab": {
   "provenance": []
  },
  "kernelspec": {
   "display_name": "Python 3 (ipykernel)",
   "language": "python",
   "name": "python3"
  },
  "language_info": {
   "codemirror_mode": {
    "name": "ipython",
    "version": 3
   },
   "file_extension": ".py",
   "mimetype": "text/x-python",
   "name": "python",
   "nbconvert_exporter": "python",
   "pygments_lexer": "ipython3",
   "version": "3.9.18"
  }
 },
 "nbformat": 4,
 "nbformat_minor": 4
}
